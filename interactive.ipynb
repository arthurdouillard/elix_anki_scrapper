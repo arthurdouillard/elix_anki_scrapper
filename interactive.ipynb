{
 "cells": [
  {
   "cell_type": "markdown",
   "metadata": {},
   "source": [
    "Interactive mode where you choose a word, and then multiple proposition for this word are given and you can choose to keep them or not with y/n."
   ]
  },
  {
   "cell_type": "code",
   "execution_count": 1,
   "metadata": {},
   "outputs": [],
   "source": [
    "import urllib\n",
    "import os\n",
    "from bs4 import BeautifulSoup\n",
    "from IPython.core.display import HTML"
   ]
  },
  {
   "cell_type": "code",
   "execution_count": 2,
   "metadata": {},
   "outputs": [],
   "source": [
    "import unicodedata\n",
    "\n",
    "def strip_accents(s):\n",
    "       return ''.join(c for c in unicodedata.normalize('NFD', s)\n",
    "                  if unicodedata.category(c) != 'Mn')"
   ]
  },
  {
   "cell_type": "code",
   "execution_count": 26,
   "metadata": {},
   "outputs": [],
   "source": [
    "def crawl_word(word):\n",
    "    page_url = \"https://dico.elix-lsf.fr/dictionnaire/{}\".format(word)\n",
    "    page = urllib.request.urlopen(page_url)\n",
    "    soup = BeautifulSoup(page)\n",
    "    \n",
    "    words = soup.find_all(\"section\", {\"class\": \"word\"})\n",
    "    #print(f\"Found {len(words)} words\")\n",
    "\n",
    "    results = []\n",
    "    for word in words:\n",
    "        word_txt = word.find_all(\"h2\", {\"class\": \"word__title\"})[0].text\n",
    "        #print(f\"# Word: {word_txt}\")\n",
    "\n",
    "        meanings = word.find_all(\"article\", {\"class\": \"meaning\"})\n",
    "        #print(f\"\\tFound {len(meanings)} meanings (taking only first one)\")\n",
    "        meaning = meanings[0]\n",
    "        video = meaning.find_all(\"ul\", {\"class\": \"sign-list\"})\n",
    "        if len(video) == 0:\n",
    "            continue\n",
    "        video = video[0].findAll(\"video\")\n",
    "        if len(video) == 0:\n",
    "            continue\n",
    "        signs = meaning.find_all(\"ul\", {\"class\": \"sign-list\"})\n",
    "        #print(video[0][\"src\"], meaning.findAll(\"h3\")[0].text)\n",
    "        results.append({\n",
    "            \"word\": word_txt, \n",
    "            \"meaning\": meaning.findAll(\"h3\")[0].text, \n",
    "            \"uri\": video[0][\"src\"],\n",
    "            \"url\": page_url\n",
    "        })\n",
    "    return results\n",
    "\n",
    "\n",
    "def download_video(uri, path, folder=\"videos\"):\n",
    "    print(f\"\\t uri-> {uri}\")\n",
    "    video = urllib.request.urlopen(uri)\n",
    "    tmp = video.read()\n",
    "    with open(os.path.join(folder, path), \"wb+\") as f:\n",
    "        f.write(tmp)\n",
    "    "
   ]
  },
  {
   "cell_type": "code",
   "execution_count": 43,
   "metadata": {},
   "outputs": [
    {
     "data": {
      "text/plain": [
       "'s%27il%20te%20pla%C3%AEt'"
      ]
     },
     "execution_count": 43,
     "metadata": {},
     "output_type": "execute_result"
    }
   ],
   "source": [
    "import re\n",
    "from urllib.parse import quote"
   ]
  },
  {
   "cell_type": "code",
   "execution_count": 45,
   "metadata": {},
   "outputs": [
    {
     "name": "stdout",
     "output_type": "stream",
     "text": [
      "étudiant (adj.) 1. qui se rapporte aux étudiants.\n",
      "Keep? y/nn\n",
      "Skipped\n",
      "étudiant (n.m.) 1. personne qui suit des études supérieures.\n",
      "Keep? y/ny\n",
      "Downloading... \t uri-> https://www.elix-lsf.fr/IMG/mp4/etudiant_nm_1_1.mp4\n",
      "Done\n",
      "étudier (v.) 1. faire des études; se mettre à l'étude.\n",
      "Keep? y/ny\n",
      "Downloading... \t uri-> https://www.elix-lsf.fr/IMG/mp4/etudier_v_1_1.mp4\n",
      "Done\n"
     ]
    }
   ],
   "source": [
    "f = open(\"cards_sampled.csv\", \"a+\")\n",
    "   \n",
    "word = \"étudiant\"\n",
    "word = quote(word)\n",
    "results = crawl_word(word)\n",
    "\n",
    "for j in range(len(results)):\n",
    "    norm_w = results[j]['word'].replace('(', '').replace(')', '').replace(' ', '_').replace('.', '')\n",
    "    norm_w = strip_accents(norm_w)\n",
    "    name = f\"lsf_v2_{norm_w}_{j}.mp4\"\n",
    "    results[j][\"video\"] = f\"[sound:{name}]\"\n",
    "\n",
    "    w = results[j]['word']\n",
    "    m = results[j]['meaning']\n",
    "    url = results[j]['url']\n",
    "    uri = results[j]['uri']\n",
    "    video = results[j]['video']\n",
    "\n",
    "    print(w, m)\n",
    "    y = input(\"Keep? y/n\")\n",
    "    if y == \"y\":\n",
    "        print(\"Downloading...\", end=\" \")\n",
    "        download_video(results[j][\"uri\"], name, \"sampled_videos\")\n",
    "        #os.system(f\"ffmpeg -i sampled_videos/{uri} -y -vcodec libx264 -crf 28 sampled_videos_opt/{uri};\")\n",
    "        f.write(f'\"{w}\";\"{m}\";{url};{uri};{video}\\n')\n",
    "        print(\"Done\")\n",
    "    else:\n",
    "        print(\"Skipped\")\n",
    "        \n",
    "f.close()"
   ]
  }
 ],
 "metadata": {
  "kernelspec": {
   "display_name": "Python 3",
   "language": "python",
   "name": "python3"
  },
  "language_info": {
   "codemirror_mode": {
    "name": "ipython",
    "version": 3
   },
   "file_extension": ".py",
   "mimetype": "text/x-python",
   "name": "python",
   "nbconvert_exporter": "python",
   "pygments_lexer": "ipython3",
   "version": "3.9.1"
  }
 },
 "nbformat": 4,
 "nbformat_minor": 2
}
